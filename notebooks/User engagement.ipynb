{
 "cells": [
  {
   "cell_type": "code",
   "execution_count": 1,
   "metadata": {},
   "outputs": [],
   "source": [
    "import pandas as pd\n",
    "import sys\n",
    "import os\n",
    "os.chdir('..')\n",
    "sys.path.append(os.path.abspath('c:/Users/mama/Desktop/Week2/Telecom-bussiness-feasibility/src'))"
   ]
  },
  {
   "cell_type": "code",
   "execution_count": 2,
   "metadata": {},
   "outputs": [
    {
     "name": "stderr",
     "output_type": "stream",
     "text": [
      "c:\\Users\\mama\\Desktop\\Week2\\Telecom-bussiness-feasibility\\scripts\\load_data.py:35: UserWarning: pandas only supports SQLAlchemy connectable (engine/connection) or database string URI or sqlite3 DBAPI2 connection. Other DBAPI2 objects are not tested. Please consider using SQLAlchemy.\n",
      "  df = pd.read_sql_query(query, connection)\n"
     ]
    },
    {
     "name": "stdout",
     "output_type": "stream",
     "text": [
      "Successfully loaded the data\n",
      "Your selected dataframe has 55 columns.\n",
      "There are 41 columns that have missing values.\n",
      "Missing Values in df:\n",
      "                                          Missing Values  % of Total Values  \\\n",
      "Nb of sec with 37500B < Vol UL                    130254               86.8   \n",
      "Nb of sec with 6250B < Vol UL < 37500B            111843               74.6   \n",
      "Nb of sec with 125000B < Vol DL                    97538               65.0   \n",
      "TCP UL Retrans. Vol (Bytes)                        96649               64.4   \n",
      "Nb of sec with 31250B < Vol DL < 125000B           93586               62.4   \n",
      "Nb of sec with 1250B < Vol UL < 6250B              92894               61.9   \n",
      "Nb of sec with 6250B < Vol DL < 31250B             88317               58.9   \n",
      "TCP DL Retrans. Vol (Bytes)                        88146               58.8   \n",
      "HTTP UL (Bytes)                                    81810               54.5   \n",
      "HTTP DL (Bytes)                                    81474               54.3   \n",
      "Avg RTT DL (ms)                                    27829               18.6   \n",
      "Avg RTT UL (ms)                                    27812               18.5   \n",
      "Last Location Name                                  1153                0.8   \n",
      "MSISDN/Number                                       1066                0.7   \n",
      "Bearer Id                                            991                0.7   \n",
      "Nb of sec with Vol UL < 1250B                        793                0.5   \n",
      "10 Kbps < UL TP < 50 Kbps (%)                        792                0.5   \n",
      "UL TP > 300 Kbps (%)                                 792                0.5   \n",
      "50 Kbps < UL TP < 300 Kbps (%)                       792                0.5   \n",
      "UL TP < 10 Kbps (%)                                  792                0.5   \n",
      "Nb of sec with Vol DL < 6250B                        755                0.5   \n",
      "250 Kbps < DL TP < 1 Mbps (%)                        754                0.5   \n",
      "50 Kbps < DL TP < 250 Kbps (%)                       754                0.5   \n",
      "DL TP < 50 Kbps (%)                                  754                0.5   \n",
      "DL TP > 1 Mbps (%)                                   754                0.5   \n",
      "Handset Type                                         572                0.4   \n",
      "Handset Manufacturer                                 572                0.4   \n",
      "IMEI                                                 572                0.4   \n",
      "IMSI                                                 570                0.4   \n",
      "Dur. (ms)                                              1                0.0   \n",
      "Total UL (Bytes)                                       1                0.0   \n",
      "Start ms                                               1                0.0   \n",
      "End                                                    1                0.0   \n",
      "End ms                                                 1                0.0   \n",
      "Start                                                  1                0.0   \n",
      "Avg Bearer TP DL (kbps)                                1                0.0   \n",
      "Dur. (ms).1                                            1                0.0   \n",
      "Activity Duration UL (ms)                              1                0.0   \n",
      "Activity Duration DL (ms)                              1                0.0   \n",
      "Avg Bearer TP UL (kbps)                                1                0.0   \n",
      "Total DL (Bytes)                                       1                0.0   \n",
      "\n",
      "                                            Dtype  \n",
      "Nb of sec with 37500B < Vol UL            float64  \n",
      "Nb of sec with 6250B < Vol UL < 37500B    float64  \n",
      "Nb of sec with 125000B < Vol DL           float64  \n",
      "TCP UL Retrans. Vol (Bytes)               float64  \n",
      "Nb of sec with 31250B < Vol DL < 125000B  float64  \n",
      "Nb of sec with 1250B < Vol UL < 6250B     float64  \n",
      "Nb of sec with 6250B < Vol DL < 31250B    float64  \n",
      "TCP DL Retrans. Vol (Bytes)               float64  \n",
      "HTTP UL (Bytes)                           float64  \n",
      "HTTP DL (Bytes)                           float64  \n",
      "Avg RTT DL (ms)                           float64  \n",
      "Avg RTT UL (ms)                           float64  \n",
      "Last Location Name                         object  \n",
      "MSISDN/Number                             float64  \n",
      "Bearer Id                                 float64  \n",
      "Nb of sec with Vol UL < 1250B             float64  \n",
      "10 Kbps < UL TP < 50 Kbps (%)             float64  \n",
      "UL TP > 300 Kbps (%)                      float64  \n",
      "50 Kbps < UL TP < 300 Kbps (%)            float64  \n",
      "UL TP < 10 Kbps (%)                       float64  \n",
      "Nb of sec with Vol DL < 6250B             float64  \n",
      "250 Kbps < DL TP < 1 Mbps (%)             float64  \n",
      "50 Kbps < DL TP < 250 Kbps (%)            float64  \n",
      "DL TP < 50 Kbps (%)                       float64  \n",
      "DL TP > 1 Mbps (%)                        float64  \n",
      "Handset Type                               object  \n",
      "Handset Manufacturer                       object  \n",
      "IMEI                                      float64  \n",
      "IMSI                                      float64  \n",
      "Dur. (ms)                                 float64  \n",
      "Total UL (Bytes)                          float64  \n",
      "Start ms                                  float64  \n",
      "End                                        object  \n",
      "End ms                                    float64  \n",
      "Start                                      object  \n",
      "Avg Bearer TP DL (kbps)                   float64  \n",
      "Dur. (ms).1                               float64  \n",
      "Activity Duration UL (ms)                 float64  \n",
      "Activity Duration DL (ms)                 float64  \n",
      "Avg Bearer TP UL (kbps)                   float64  \n",
      "Total DL (Bytes)                          float64  \n",
      "\n",
      "DataFrame after Removing Rows with Missing Values in 'Age' or 'Salary':\n",
      "           Bearer Id            Start  Start ms              End  End ms  \\\n",
      "0       1.311448e+19   4/4/2019 12:01     770.0  4/25/2019 14:35   662.0   \n",
      "1       1.311448e+19   4/9/2019 13:04     235.0   4/25/2019 8:15   606.0   \n",
      "2       1.311448e+19   4/9/2019 17:42       1.0  4/25/2019 11:58   652.0   \n",
      "3       1.311448e+19   4/10/2019 0:31     486.0   4/25/2019 7:36   171.0   \n",
      "4       1.311448e+19  4/12/2019 20:10     565.0  4/25/2019 10:40   954.0   \n",
      "...              ...              ...       ...              ...     ...   \n",
      "149995  1.304243e+19   4/29/2019 7:28     615.0   4/30/2019 0:01   407.0   \n",
      "149996  7.277826e+18   4/29/2019 7:28     451.0   4/30/2019 6:02   214.0   \n",
      "149997  7.349883e+18   4/29/2019 7:28     483.0  4/30/2019 10:41   187.0   \n",
      "149998  1.311448e+19   4/29/2019 7:28     283.0  4/30/2019 10:46   810.0   \n",
      "149999  1.311448e+19   4/29/2019 7:28     696.0  4/30/2019 10:40   327.0   \n",
      "\n",
      "        Dur. (ms)          IMSI  MSISDN/Number          IMEI  \\\n",
      "0       1823652.0  2.082014e+14   3.366496e+10  3.552121e+13   \n",
      "1       1365104.0  2.082019e+14   3.368185e+10  3.579401e+13   \n",
      "2       1361762.0  2.082003e+14   3.376063e+10  3.528151e+13   \n",
      "3       1321509.0  2.082014e+14   3.375034e+10  3.535661e+13   \n",
      "4       1089009.0  2.082014e+14   3.369980e+10  3.540701e+13   \n",
      "...           ...           ...            ...           ...   \n",
      "149995    59587.0  2.082014e+14   3.366865e+10  3.533251e+13   \n",
      "149996    81230.0  2.082022e+14   3.365069e+10  3.548311e+13   \n",
      "149997    97970.0  2.082019e+14   3.366345e+10  3.566051e+13   \n",
      "149998    98249.0  2.082017e+14   3.362189e+10  3.572121e+13   \n",
      "149999    97910.0  2.082021e+14   3.361962e+10  8.618620e+13   \n",
      "\n",
      "           Last Location Name  ...  Youtube DL (Bytes)  Youtube UL (Bytes)  \\\n",
      "0       9.16456699548519E+015  ...          15854611.0           2501332.0   \n",
      "1                     L77566A  ...          20247395.0          19111729.0   \n",
      "2                     D42335A  ...          19725661.0          14699576.0   \n",
      "3                     T21824A  ...          21388122.0          15146643.0   \n",
      "4                     D88865A  ...          15259380.0          18962873.0   \n",
      "...                       ...  ...                 ...                 ...   \n",
      "149995                T85721A  ...           6550499.0          18003146.0   \n",
      "149996                D20434A  ...          16191667.0          11763428.0   \n",
      "149997                D10223C  ...          13877234.0           8288284.0   \n",
      "149998                T51102A  ...          22660510.0           1855903.0   \n",
      "149999                L88342B  ...           8817106.0           8305402.0   \n",
      "\n",
      "        Netflix DL (Bytes)  Netflix UL (Bytes)  Gaming DL (Bytes)  \\\n",
      "0                8198936.0           9656251.0        278082303.0   \n",
      "1               18338413.0          17227132.0        608750074.0   \n",
      "2               17587794.0           6163408.0        229584621.0   \n",
      "3               13994646.0           1097942.0        799538153.0   \n",
      "4               17124581.0            415218.0        527707248.0   \n",
      "...                    ...                 ...                ...   \n",
      "149995          22468983.0           7149728.0        784435351.0   \n",
      "149996          17883703.0          19678161.0        526609673.0   \n",
      "149997          19350146.0          21293148.0        626893062.0   \n",
      "149998           9963942.0           5065760.0        553539484.0   \n",
      "149999           3322253.0          13172589.0        352536971.0   \n",
      "\n",
      "        Gaming UL (Bytes)  Other DL (Bytes)  Other UL (Bytes)  \\\n",
      "0              14344150.0       171744450.0         8814393.0   \n",
      "1               1170709.0       526904238.0        15055145.0   \n",
      "2                395630.0       410692588.0         4215763.0   \n",
      "3              10849722.0       749039933.0        12797283.0   \n",
      "4               3529801.0       550709500.0        13910322.0   \n",
      "...                   ...               ...               ...   \n",
      "149995         12724751.0       321383162.0        14890486.0   \n",
      "149996          9197207.0         3264510.0        13487416.0   \n",
      "149997          4735033.0       712180387.0         2457758.0   \n",
      "149998         13394316.0       121100856.0        11314729.0   \n",
      "149999          2529475.0       814713113.0         1406930.0   \n",
      "\n",
      "        Total UL (Bytes)  Total DL (Bytes)  \n",
      "0             36749741.0       308879636.0  \n",
      "1             53800391.0       653384965.0  \n",
      "2             27883638.0       279807335.0  \n",
      "3             43324218.0       846028530.0  \n",
      "4             38542814.0       569138589.0  \n",
      "...                  ...               ...  \n",
      "149995        53745392.0       819016468.0  \n",
      "149996        57628851.0       574175259.0  \n",
      "149997        39135081.0       666648844.0  \n",
      "149998        34912224.0       592786405.0  \n",
      "149999        29626096.0       371895920.0  \n",
      "\n",
      "[149429 rows x 55 columns]\n"
     ]
    },
    {
     "name": "stderr",
     "output_type": "stream",
     "text": [
      "c:\\Users\\mama\\Desktop\\Week2\\Telecom-bussiness-feasibility\\src\\utils.py:119: FutureWarning: A value is trying to be set on a copy of a DataFrame or Series through chained assignment using an inplace method.\n",
      "The behavior will change in pandas 3.0. This inplace method will never work because the intermediate object on which we are setting values always behaves as a copy.\n",
      "\n",
      "For example, when doing 'df[col].method(value, inplace=True)', try using 'df.method({col: value}, inplace=True)' or df[col] = df[col].method(value) instead, to perform the operation inplace on the original object.\n",
      "\n",
      "\n",
      "  df[column].fillna(df[column].median(), inplace=True)\n",
      "c:\\Users\\mama\\Desktop\\Week2\\Telecom-bussiness-feasibility\\src\\utils.py:119: SettingWithCopyWarning: \n",
      "A value is trying to be set on a copy of a slice from a DataFrame\n",
      "\n",
      "See the caveats in the documentation: https://pandas.pydata.org/pandas-docs/stable/user_guide/indexing.html#returning-a-view-versus-a-copy\n",
      "  df[column].fillna(df[column].median(), inplace=True)\n",
      "c:\\Users\\mama\\Desktop\\Week2\\Telecom-bussiness-feasibility\\src\\utils.py:119: FutureWarning: A value is trying to be set on a copy of a DataFrame or Series through chained assignment using an inplace method.\n",
      "The behavior will change in pandas 3.0. This inplace method will never work because the intermediate object on which we are setting values always behaves as a copy.\n",
      "\n",
      "For example, when doing 'df[col].method(value, inplace=True)', try using 'df.method({col: value}, inplace=True)' or df[col] = df[col].method(value) instead, to perform the operation inplace on the original object.\n",
      "\n",
      "\n",
      "  df[column].fillna(df[column].median(), inplace=True)\n",
      "c:\\Users\\mama\\Desktop\\Week2\\Telecom-bussiness-feasibility\\src\\utils.py:119: SettingWithCopyWarning: \n",
      "A value is trying to be set on a copy of a slice from a DataFrame\n",
      "\n",
      "See the caveats in the documentation: https://pandas.pydata.org/pandas-docs/stable/user_guide/indexing.html#returning-a-view-versus-a-copy\n",
      "  df[column].fillna(df[column].median(), inplace=True)\n",
      "c:\\Users\\mama\\Desktop\\Week2\\Telecom-bussiness-feasibility\\src\\utils.py:119: FutureWarning: A value is trying to be set on a copy of a DataFrame or Series through chained assignment using an inplace method.\n",
      "The behavior will change in pandas 3.0. This inplace method will never work because the intermediate object on which we are setting values always behaves as a copy.\n",
      "\n",
      "For example, when doing 'df[col].method(value, inplace=True)', try using 'df.method({col: value}, inplace=True)' or df[col] = df[col].method(value) instead, to perform the operation inplace on the original object.\n",
      "\n",
      "\n",
      "  df[column].fillna(df[column].median(), inplace=True)\n",
      "c:\\Users\\mama\\Desktop\\Week2\\Telecom-bussiness-feasibility\\src\\utils.py:119: SettingWithCopyWarning: \n",
      "A value is trying to be set on a copy of a slice from a DataFrame\n",
      "\n",
      "See the caveats in the documentation: https://pandas.pydata.org/pandas-docs/stable/user_guide/indexing.html#returning-a-view-versus-a-copy\n",
      "  df[column].fillna(df[column].median(), inplace=True)\n",
      "c:\\Users\\mama\\Desktop\\Week2\\Telecom-bussiness-feasibility\\src\\utils.py:119: FutureWarning: A value is trying to be set on a copy of a DataFrame or Series through chained assignment using an inplace method.\n",
      "The behavior will change in pandas 3.0. This inplace method will never work because the intermediate object on which we are setting values always behaves as a copy.\n",
      "\n",
      "For example, when doing 'df[col].method(value, inplace=True)', try using 'df.method({col: value}, inplace=True)' or df[col] = df[col].method(value) instead, to perform the operation inplace on the original object.\n",
      "\n",
      "\n",
      "  df[column].fillna(df[column].median(), inplace=True)\n",
      "c:\\Users\\mama\\Desktop\\Week2\\Telecom-bussiness-feasibility\\src\\utils.py:119: SettingWithCopyWarning: \n",
      "A value is trying to be set on a copy of a slice from a DataFrame\n",
      "\n",
      "See the caveats in the documentation: https://pandas.pydata.org/pandas-docs/stable/user_guide/indexing.html#returning-a-view-versus-a-copy\n",
      "  df[column].fillna(df[column].median(), inplace=True)\n",
      "c:\\Users\\mama\\Desktop\\Week2\\Telecom-bussiness-feasibility\\src\\utils.py:119: FutureWarning: A value is trying to be set on a copy of a DataFrame or Series through chained assignment using an inplace method.\n",
      "The behavior will change in pandas 3.0. This inplace method will never work because the intermediate object on which we are setting values always behaves as a copy.\n",
      "\n",
      "For example, when doing 'df[col].method(value, inplace=True)', try using 'df.method({col: value}, inplace=True)' or df[col] = df[col].method(value) instead, to perform the operation inplace on the original object.\n",
      "\n",
      "\n",
      "  df[column].fillna(df[column].median(), inplace=True)\n",
      "c:\\Users\\mama\\Desktop\\Week2\\Telecom-bussiness-feasibility\\src\\utils.py:119: SettingWithCopyWarning: \n",
      "A value is trying to be set on a copy of a slice from a DataFrame\n",
      "\n",
      "See the caveats in the documentation: https://pandas.pydata.org/pandas-docs/stable/user_guide/indexing.html#returning-a-view-versus-a-copy\n",
      "  df[column].fillna(df[column].median(), inplace=True)\n",
      "c:\\Users\\mama\\Desktop\\Week2\\Telecom-bussiness-feasibility\\src\\utils.py:119: FutureWarning: A value is trying to be set on a copy of a DataFrame or Series through chained assignment using an inplace method.\n",
      "The behavior will change in pandas 3.0. This inplace method will never work because the intermediate object on which we are setting values always behaves as a copy.\n",
      "\n",
      "For example, when doing 'df[col].method(value, inplace=True)', try using 'df.method({col: value}, inplace=True)' or df[col] = df[col].method(value) instead, to perform the operation inplace on the original object.\n",
      "\n",
      "\n",
      "  df[column].fillna(df[column].median(), inplace=True)\n",
      "c:\\Users\\mama\\Desktop\\Week2\\Telecom-bussiness-feasibility\\src\\utils.py:119: SettingWithCopyWarning: \n",
      "A value is trying to be set on a copy of a slice from a DataFrame\n",
      "\n",
      "See the caveats in the documentation: https://pandas.pydata.org/pandas-docs/stable/user_guide/indexing.html#returning-a-view-versus-a-copy\n",
      "  df[column].fillna(df[column].median(), inplace=True)\n",
      "c:\\Users\\mama\\Desktop\\Week2\\Telecom-bussiness-feasibility\\src\\utils.py:119: FutureWarning: A value is trying to be set on a copy of a DataFrame or Series through chained assignment using an inplace method.\n",
      "The behavior will change in pandas 3.0. This inplace method will never work because the intermediate object on which we are setting values always behaves as a copy.\n",
      "\n",
      "For example, when doing 'df[col].method(value, inplace=True)', try using 'df.method({col: value}, inplace=True)' or df[col] = df[col].method(value) instead, to perform the operation inplace on the original object.\n",
      "\n",
      "\n",
      "  df[column].fillna(df[column].median(), inplace=True)\n",
      "c:\\Users\\mama\\Desktop\\Week2\\Telecom-bussiness-feasibility\\src\\utils.py:119: SettingWithCopyWarning: \n",
      "A value is trying to be set on a copy of a slice from a DataFrame\n",
      "\n",
      "See the caveats in the documentation: https://pandas.pydata.org/pandas-docs/stable/user_guide/indexing.html#returning-a-view-versus-a-copy\n",
      "  df[column].fillna(df[column].median(), inplace=True)\n",
      "c:\\Users\\mama\\Desktop\\Week2\\Telecom-bussiness-feasibility\\src\\utils.py:119: FutureWarning: A value is trying to be set on a copy of a DataFrame or Series through chained assignment using an inplace method.\n",
      "The behavior will change in pandas 3.0. This inplace method will never work because the intermediate object on which we are setting values always behaves as a copy.\n",
      "\n",
      "For example, when doing 'df[col].method(value, inplace=True)', try using 'df.method({col: value}, inplace=True)' or df[col] = df[col].method(value) instead, to perform the operation inplace on the original object.\n",
      "\n",
      "\n",
      "  df[column].fillna(df[column].median(), inplace=True)\n",
      "c:\\Users\\mama\\Desktop\\Week2\\Telecom-bussiness-feasibility\\src\\utils.py:119: SettingWithCopyWarning: \n",
      "A value is trying to be set on a copy of a slice from a DataFrame\n",
      "\n",
      "See the caveats in the documentation: https://pandas.pydata.org/pandas-docs/stable/user_guide/indexing.html#returning-a-view-versus-a-copy\n",
      "  df[column].fillna(df[column].median(), inplace=True)\n",
      "c:\\Users\\mama\\Desktop\\Week2\\Telecom-bussiness-feasibility\\src\\utils.py:119: FutureWarning: A value is trying to be set on a copy of a DataFrame or Series through chained assignment using an inplace method.\n",
      "The behavior will change in pandas 3.0. This inplace method will never work because the intermediate object on which we are setting values always behaves as a copy.\n",
      "\n",
      "For example, when doing 'df[col].method(value, inplace=True)', try using 'df.method({col: value}, inplace=True)' or df[col] = df[col].method(value) instead, to perform the operation inplace on the original object.\n",
      "\n",
      "\n",
      "  df[column].fillna(df[column].median(), inplace=True)\n",
      "c:\\Users\\mama\\Desktop\\Week2\\Telecom-bussiness-feasibility\\src\\utils.py:119: SettingWithCopyWarning: \n",
      "A value is trying to be set on a copy of a slice from a DataFrame\n",
      "\n",
      "See the caveats in the documentation: https://pandas.pydata.org/pandas-docs/stable/user_guide/indexing.html#returning-a-view-versus-a-copy\n",
      "  df[column].fillna(df[column].median(), inplace=True)\n",
      "c:\\Users\\mama\\Desktop\\Week2\\Telecom-bussiness-feasibility\\src\\utils.py:119: FutureWarning: A value is trying to be set on a copy of a DataFrame or Series through chained assignment using an inplace method.\n",
      "The behavior will change in pandas 3.0. This inplace method will never work because the intermediate object on which we are setting values always behaves as a copy.\n",
      "\n",
      "For example, when doing 'df[col].method(value, inplace=True)', try using 'df.method({col: value}, inplace=True)' or df[col] = df[col].method(value) instead, to perform the operation inplace on the original object.\n",
      "\n",
      "\n",
      "  df[column].fillna(df[column].median(), inplace=True)\n",
      "c:\\Users\\mama\\Desktop\\Week2\\Telecom-bussiness-feasibility\\src\\utils.py:119: SettingWithCopyWarning: \n",
      "A value is trying to be set on a copy of a slice from a DataFrame\n",
      "\n",
      "See the caveats in the documentation: https://pandas.pydata.org/pandas-docs/stable/user_guide/indexing.html#returning-a-view-versus-a-copy\n",
      "  df[column].fillna(df[column].median(), inplace=True)\n",
      "c:\\Users\\mama\\Desktop\\Week2\\Telecom-bussiness-feasibility\\src\\utils.py:119: FutureWarning: A value is trying to be set on a copy of a DataFrame or Series through chained assignment using an inplace method.\n",
      "The behavior will change in pandas 3.0. This inplace method will never work because the intermediate object on which we are setting values always behaves as a copy.\n",
      "\n",
      "For example, when doing 'df[col].method(value, inplace=True)', try using 'df.method({col: value}, inplace=True)' or df[col] = df[col].method(value) instead, to perform the operation inplace on the original object.\n",
      "\n",
      "\n",
      "  df[column].fillna(df[column].median(), inplace=True)\n",
      "c:\\Users\\mama\\Desktop\\Week2\\Telecom-bussiness-feasibility\\src\\utils.py:119: SettingWithCopyWarning: \n",
      "A value is trying to be set on a copy of a slice from a DataFrame\n",
      "\n",
      "See the caveats in the documentation: https://pandas.pydata.org/pandas-docs/stable/user_guide/indexing.html#returning-a-view-versus-a-copy\n",
      "  df[column].fillna(df[column].median(), inplace=True)\n",
      "c:\\Users\\mama\\Desktop\\Week2\\Telecom-bussiness-feasibility\\src\\utils.py:119: FutureWarning: A value is trying to be set on a copy of a DataFrame or Series through chained assignment using an inplace method.\n",
      "The behavior will change in pandas 3.0. This inplace method will never work because the intermediate object on which we are setting values always behaves as a copy.\n",
      "\n",
      "For example, when doing 'df[col].method(value, inplace=True)', try using 'df.method({col: value}, inplace=True)' or df[col] = df[col].method(value) instead, to perform the operation inplace on the original object.\n",
      "\n",
      "\n",
      "  df[column].fillna(df[column].median(), inplace=True)\n",
      "c:\\Users\\mama\\Desktop\\Week2\\Telecom-bussiness-feasibility\\src\\utils.py:119: SettingWithCopyWarning: \n",
      "A value is trying to be set on a copy of a slice from a DataFrame\n",
      "\n",
      "See the caveats in the documentation: https://pandas.pydata.org/pandas-docs/stable/user_guide/indexing.html#returning-a-view-versus-a-copy\n",
      "  df[column].fillna(df[column].median(), inplace=True)\n",
      "c:\\Users\\mama\\Desktop\\Week2\\Telecom-bussiness-feasibility\\src\\utils.py:121: FutureWarning: A value is trying to be set on a copy of a DataFrame or Series through chained assignment using an inplace method.\n",
      "The behavior will change in pandas 3.0. This inplace method will never work because the intermediate object on which we are setting values always behaves as a copy.\n",
      "\n",
      "For example, when doing 'df[col].method(value, inplace=True)', try using 'df.method({col: value}, inplace=True)' or df[col] = df[col].method(value) instead, to perform the operation inplace on the original object.\n",
      "\n",
      "\n",
      "  df[column].fillna(df[column].mode()[0], inplace=True)\n",
      "c:\\Users\\mama\\Desktop\\Week2\\Telecom-bussiness-feasibility\\src\\utils.py:121: SettingWithCopyWarning: \n",
      "A value is trying to be set on a copy of a slice from a DataFrame\n",
      "\n",
      "See the caveats in the documentation: https://pandas.pydata.org/pandas-docs/stable/user_guide/indexing.html#returning-a-view-versus-a-copy\n",
      "  df[column].fillna(df[column].mode()[0], inplace=True)\n",
      "c:\\Users\\mama\\Desktop\\Week2\\Telecom-bussiness-feasibility\\src\\utils.py:145: SettingWithCopyWarning: \n",
      "A value is trying to be set on a copy of a slice from a DataFrame.\n",
      "Try using .loc[row_indexer,col_indexer] = value instead\n",
      "\n",
      "See the caveats in the documentation: https://pandas.pydata.org/pandas-docs/stable/user_guide/indexing.html#returning-a-view-versus-a-copy\n",
      "  df[column] = imputer.fit_transform(df[[column]])\n",
      "c:\\Users\\mama\\Desktop\\Week2\\Telecom-bussiness-feasibility\\src\\utils.py:123: FutureWarning: A value is trying to be set on a copy of a DataFrame or Series through chained assignment using an inplace method.\n",
      "The behavior will change in pandas 3.0. This inplace method will never work because the intermediate object on which we are setting values always behaves as a copy.\n",
      "\n",
      "For example, when doing 'df[col].method(value, inplace=True)', try using 'df.method({col: value}, inplace=True)' or df[col] = df[col].method(value) instead, to perform the operation inplace on the original object.\n",
      "\n",
      "\n",
      "  df[column].interpolate(method='linear', inplace=True)\n",
      "c:\\Users\\mama\\Desktop\\Week2\\Telecom-bussiness-feasibility\\src\\utils.py:123: FutureWarning: Series.interpolate with object dtype is deprecated and will raise in a future version. Call obj.infer_objects(copy=False) before interpolating instead.\n",
      "  df[column].interpolate(method='linear', inplace=True)\n",
      "c:\\Users\\mama\\Desktop\\Week2\\Telecom-bussiness-feasibility\\src\\utils.py:123: SettingWithCopyWarning: \n",
      "A value is trying to be set on a copy of a slice from a DataFrame\n",
      "\n",
      "See the caveats in the documentation: https://pandas.pydata.org/pandas-docs/stable/user_guide/indexing.html#returning-a-view-versus-a-copy\n",
      "  df[column].interpolate(method='linear', inplace=True)\n",
      "c:\\Users\\mama\\Desktop\\Week2\\Telecom-bussiness-feasibility\\src\\utils.py:117: FutureWarning: A value is trying to be set on a copy of a DataFrame or Series through chained assignment using an inplace method.\n",
      "The behavior will change in pandas 3.0. This inplace method will never work because the intermediate object on which we are setting values always behaves as a copy.\n",
      "\n",
      "For example, when doing 'df[col].method(value, inplace=True)', try using 'df.method({col: value}, inplace=True)' or df[col] = df[col].method(value) instead, to perform the operation inplace on the original object.\n",
      "\n",
      "\n",
      "  df[column].fillna(df[column].mean(), inplace=True)\n",
      "c:\\Users\\mama\\Desktop\\Week2\\Telecom-bussiness-feasibility\\src\\utils.py:117: SettingWithCopyWarning: \n",
      "A value is trying to be set on a copy of a slice from a DataFrame\n",
      "\n",
      "See the caveats in the documentation: https://pandas.pydata.org/pandas-docs/stable/user_guide/indexing.html#returning-a-view-versus-a-copy\n",
      "  df[column].fillna(df[column].mean(), inplace=True)\n"
     ]
    },
    {
     "name": "stdout",
     "output_type": "stream",
     "text": [
      "\n",
      "DataFrame after Filling Missing Values with Median:\n",
      "           Bearer Id            Start  Start ms              End  End ms  \\\n",
      "0       1.311448e+19   4/4/2019 12:01     770.0  4/25/2019 14:35   662.0   \n",
      "1       1.311448e+19   4/9/2019 13:04     235.0   4/25/2019 8:15   606.0   \n",
      "2       1.311448e+19   4/9/2019 17:42       1.0  4/25/2019 11:58   652.0   \n",
      "3       1.311448e+19   4/10/2019 0:31     486.0   4/25/2019 7:36   171.0   \n",
      "4       1.311448e+19  4/12/2019 20:10     565.0  4/25/2019 10:40   954.0   \n",
      "...              ...              ...       ...              ...     ...   \n",
      "149995  1.304243e+19   4/29/2019 7:28     615.0   4/30/2019 0:01   407.0   \n",
      "149996  7.277826e+18   4/29/2019 7:28     451.0   4/30/2019 6:02   214.0   \n",
      "149997  7.349883e+18   4/29/2019 7:28     483.0  4/30/2019 10:41   187.0   \n",
      "149998  1.311448e+19   4/29/2019 7:28     283.0  4/30/2019 10:46   810.0   \n",
      "149999  1.311448e+19   4/29/2019 7:28     696.0  4/30/2019 10:40   327.0   \n",
      "\n",
      "        Dur. (ms)          IMSI  MSISDN/Number          IMEI  \\\n",
      "0       1823652.0  2.082014e+14   3.366496e+10  3.552121e+13   \n",
      "1       1365104.0  2.082019e+14   3.368185e+10  3.579401e+13   \n",
      "2       1361762.0  2.082003e+14   3.376063e+10  3.528151e+13   \n",
      "3       1321509.0  2.082014e+14   3.375034e+10  3.535661e+13   \n",
      "4       1089009.0  2.082014e+14   3.369980e+10  3.540701e+13   \n",
      "...           ...           ...            ...           ...   \n",
      "149995    59587.0  2.082014e+14   3.366865e+10  3.533251e+13   \n",
      "149996    81230.0  2.082022e+14   3.365069e+10  3.548311e+13   \n",
      "149997    97970.0  2.082019e+14   3.366345e+10  3.566051e+13   \n",
      "149998    98249.0  2.082017e+14   3.362189e+10  3.572121e+13   \n",
      "149999    97910.0  2.082021e+14   3.361962e+10  8.618620e+13   \n",
      "\n",
      "           Last Location Name  ...  Youtube DL (Bytes)  Youtube UL (Bytes)  \\\n",
      "0       9.16456699548519E+015  ...          15854611.0           2501332.0   \n",
      "1                     L77566A  ...          20247395.0          19111729.0   \n",
      "2                     D42335A  ...          19725661.0          14699576.0   \n",
      "3                     T21824A  ...          21388122.0          15146643.0   \n",
      "4                     D88865A  ...          15259380.0          18962873.0   \n",
      "...                       ...  ...                 ...                 ...   \n",
      "149995                T85721A  ...           6550499.0          18003146.0   \n",
      "149996                D20434A  ...          16191667.0          11763428.0   \n",
      "149997                D10223C  ...          13877234.0           8288284.0   \n",
      "149998                T51102A  ...          22660510.0           1855903.0   \n",
      "149999                L88342B  ...           8817106.0           8305402.0   \n",
      "\n",
      "        Netflix DL (Bytes)  Netflix UL (Bytes)  Gaming DL (Bytes)  \\\n",
      "0                8198936.0           9656251.0        278082303.0   \n",
      "1               18338413.0          17227132.0        608750074.0   \n",
      "2               17587794.0           6163408.0        229584621.0   \n",
      "3               13994646.0           1097942.0        799538153.0   \n",
      "4               17124581.0            415218.0        527707248.0   \n",
      "...                    ...                 ...                ...   \n",
      "149995          22468983.0           7149728.0        784435351.0   \n",
      "149996          17883703.0          19678161.0        526609673.0   \n",
      "149997          19350146.0          21293148.0        626893062.0   \n",
      "149998           9963942.0           5065760.0        553539484.0   \n",
      "149999           3322253.0          13172589.0        352536971.0   \n",
      "\n",
      "        Gaming UL (Bytes)  Other DL (Bytes)  Other UL (Bytes)  \\\n",
      "0              14344150.0       171744450.0         8814393.0   \n",
      "1               1170709.0       526904238.0        15055145.0   \n",
      "2                395630.0       410692588.0         4215763.0   \n",
      "3              10849722.0       749039933.0        12797283.0   \n",
      "4               3529801.0       550709500.0        13910322.0   \n",
      "...                   ...               ...               ...   \n",
      "149995         12724751.0       321383162.0        14890486.0   \n",
      "149996          9197207.0         3264510.0        13487416.0   \n",
      "149997          4735033.0       712180387.0         2457758.0   \n",
      "149998         13394316.0       121100856.0        11314729.0   \n",
      "149999          2529475.0       814713113.0         1406930.0   \n",
      "\n",
      "        Total UL (Bytes)  Total DL (Bytes)  \n",
      "0             36749741.0       308879636.0  \n",
      "1             53800391.0       653384965.0  \n",
      "2             27883638.0       279807335.0  \n",
      "3             43324218.0       846028530.0  \n",
      "4             38542814.0       569138589.0  \n",
      "...                  ...               ...  \n",
      "149995        53745392.0       819016468.0  \n",
      "149996        57628851.0       574175259.0  \n",
      "149997        39135081.0       666648844.0  \n",
      "149998        34912224.0       592786405.0  \n",
      "149999        29626096.0       371895920.0  \n",
      "\n",
      "[149429 rows x 55 columns]\n",
      "Your selected dataframe has 55 columns.\n",
      "There are 0 columns that have missing values.\n",
      "Missing Values in df:\n",
      "Empty DataFrame\n",
      "Columns: [Missing Values, % of Total Values, Dtype]\n",
      "Index: []\n",
      "Columns with 'undefined' values and their counts: {'Handset Manufacturer': np.int64(8987), 'Handset Type': np.int64(8987)}\n"
     ]
    },
    {
     "name": "stderr",
     "output_type": "stream",
     "text": [
      "C:\\Users\\mama\\AppData\\Local\\Temp\\ipykernel_6240\\269809415.py:1: SettingWithCopyWarning: \n",
      "A value is trying to be set on a copy of a slice from a DataFrame\n",
      "\n",
      "See the caveats in the documentation: https://pandas.pydata.org/pandas-docs/stable/user_guide/indexing.html#returning-a-view-versus-a-copy\n",
      "  Telecom_filled.replace('undefined', np.nan, inplace=True)\n"
     ]
    },
    {
     "name": "stdout",
     "output_type": "stream",
     "text": [
      "Data after dropping rows with 'undefined' values:\n",
      "           Bearer Id            Start  Start ms              End  End ms  \\\n",
      "0       1.311448e+19   4/4/2019 12:01     770.0  4/25/2019 14:35   662.0   \n",
      "1       1.311448e+19   4/9/2019 13:04     235.0   4/25/2019 8:15   606.0   \n",
      "2       1.311448e+19   4/9/2019 17:42       1.0  4/25/2019 11:58   652.0   \n",
      "4       1.311448e+19  4/12/2019 20:10     565.0  4/25/2019 10:40   954.0   \n",
      "6       1.311448e+19   4/13/2019 8:41     612.0   4/25/2019 8:16   168.0   \n",
      "...              ...              ...       ...              ...     ...   \n",
      "149994  1.311448e+19   4/29/2019 7:28      83.0  4/30/2019 15:01   268.0   \n",
      "149996  7.277826e+18   4/29/2019 7:28     451.0   4/30/2019 6:02   214.0   \n",
      "149997  7.349883e+18   4/29/2019 7:28     483.0  4/30/2019 10:41   187.0   \n",
      "149998  1.311448e+19   4/29/2019 7:28     283.0  4/30/2019 10:46   810.0   \n",
      "149999  1.311448e+19   4/29/2019 7:28     696.0  4/30/2019 10:40   327.0   \n",
      "\n",
      "        Dur. (ms)          IMSI  MSISDN/Number          IMEI  \\\n",
      "0       1823652.0  2.082014e+14   3.366496e+10  3.552121e+13   \n",
      "1       1365104.0  2.082019e+14   3.368185e+10  3.579401e+13   \n",
      "2       1361762.0  2.082003e+14   3.376063e+10  3.528151e+13   \n",
      "4       1089009.0  2.082014e+14   3.369980e+10  3.540701e+13   \n",
      "6       1035261.0  2.082014e+14   3.366537e+10  8.676270e+13   \n",
      "...           ...           ...            ...           ...   \n",
      "149994   113545.0  2.082003e+14   3.364566e+10  3.515541e+13   \n",
      "149996    81230.0  2.082022e+14   3.365069e+10  3.548311e+13   \n",
      "149997    97970.0  2.082019e+14   3.366345e+10  3.566051e+13   \n",
      "149998    98249.0  2.082017e+14   3.362189e+10  3.572121e+13   \n",
      "149999    97910.0  2.082021e+14   3.361962e+10  8.618620e+13   \n",
      "\n",
      "           Last Location Name  ...  Youtube DL (Bytes)  Youtube UL (Bytes)  \\\n",
      "0       9.16456699548519E+015  ...          15854611.0           2501332.0   \n",
      "1                     L77566A  ...          20247395.0          19111729.0   \n",
      "2                     D42335A  ...          19725661.0          14699576.0   \n",
      "4                     D88865A  ...          15259380.0          18962873.0   \n",
      "6       9.16456701058919E+015  ...           7234465.0           1886295.0   \n",
      "...                       ...  ...                 ...                 ...   \n",
      "149994                T88383B  ...          23043782.0          19176074.0   \n",
      "149996                D20434A  ...          16191667.0          11763428.0   \n",
      "149997                D10223C  ...          13877234.0           8288284.0   \n",
      "149998                T51102A  ...          22660510.0           1855903.0   \n",
      "149999                L88342B  ...           8817106.0           8305402.0   \n",
      "\n",
      "        Netflix DL (Bytes)  Netflix UL (Bytes)  Gaming DL (Bytes)  \\\n",
      "0                8198936.0           9656251.0        278082303.0   \n",
      "1               18338413.0          17227132.0        608750074.0   \n",
      "2               17587794.0           6163408.0        229584621.0   \n",
      "4               17124581.0            415218.0        527707248.0   \n",
      "6               13231006.0          17981760.0         44796223.0   \n",
      "...                    ...                 ...                ...   \n",
      "149994          18762809.0           9591310.0        810666072.0   \n",
      "149996          17883703.0          19678161.0        526609673.0   \n",
      "149997          19350146.0          21293148.0        626893062.0   \n",
      "149998           9963942.0           5065760.0        553539484.0   \n",
      "149999           3322253.0          13172589.0        352536971.0   \n",
      "\n",
      "        Gaming UL (Bytes)  Other DL (Bytes)  Other UL (Bytes)  \\\n",
      "0              14344150.0       171744450.0         8814393.0   \n",
      "1               1170709.0       526904238.0        15055145.0   \n",
      "2                395630.0       410692588.0         4215763.0   \n",
      "4               3529801.0       550709500.0        13910322.0   \n",
      "6              14084934.0       803653557.0        10649768.0   \n",
      "...                   ...               ...               ...   \n",
      "149994         14858904.0       777865837.0        14693970.0   \n",
      "149996          9197207.0         3264510.0        13487416.0   \n",
      "149997          4735033.0       712180387.0         2457758.0   \n",
      "149998         13394316.0       121100856.0        11314729.0   \n",
      "149999          2529475.0       814713113.0         1406930.0   \n",
      "\n",
      "        Total UL (Bytes)  Total DL (Bytes)  \n",
      "0             36749741.0       308879636.0  \n",
      "1             53800391.0       653384965.0  \n",
      "2             27883638.0       279807335.0  \n",
      "4             38542814.0       569138589.0  \n",
      "6             47925246.0        70562047.0  \n",
      "...                  ...               ...  \n",
      "149994        59377936.0       862796008.0  \n",
      "149996        57628851.0       574175259.0  \n",
      "149997        39135081.0       666648844.0  \n",
      "149998        34912224.0       592786405.0  \n",
      "149999        29626096.0       371895920.0  \n",
      "\n",
      "[140442 rows x 55 columns]\n"
     ]
    }
   ],
   "source": [
    "%run C:\\Users\\mama\\Desktop\\Week2\\Telecom-bussiness-feasibility\\notebooks\\Cleaning_data.ipynb"
   ]
  },
  {
   "cell_type": "code",
   "execution_count": 18,
   "metadata": {},
   "outputs": [],
   "source": [
    "from utils import calculate_session_frequency, calculate_session_duration_from_times, track_user_engagement, calculate_total_traffic, convert_to_datetime, get_top_customers, classify_customers_kmeans, plot_clusters"
   ]
  },
  {
   "cell_type": "code",
   "execution_count": 4,
   "metadata": {},
   "outputs": [
    {
     "name": "stderr",
     "output_type": "stream",
     "text": [
      "c:\\Users\\mama\\Desktop\\Week2\\Telecom-bussiness-feasibility\\src\\utils.py:367: SettingWithCopyWarning: \n",
      "A value is trying to be set on a copy of a slice from a DataFrame.\n",
      "Try using .loc[row_indexer,col_indexer] = value instead\n",
      "\n",
      "See the caveats in the documentation: https://pandas.pydata.org/pandas-docs/stable/user_guide/indexing.html#returning-a-view-versus-a-copy\n",
      "  df[col] = pd.to_datetime(df[col], errors='coerce')  # Coerce invalid parsing to NaT\n",
      "c:\\Users\\mama\\Desktop\\Week2\\Telecom-bussiness-feasibility\\src\\utils.py:367: SettingWithCopyWarning: \n",
      "A value is trying to be set on a copy of a slice from a DataFrame.\n",
      "Try using .loc[row_indexer,col_indexer] = value instead\n",
      "\n",
      "See the caveats in the documentation: https://pandas.pydata.org/pandas-docs/stable/user_guide/indexing.html#returning-a-view-versus-a-copy\n",
      "  df[col] = pd.to_datetime(df[col], errors='coerce')  # Coerce invalid parsing to NaT\n"
     ]
    }
   ],
   "source": [
    "columns_to_convert = ['Start', 'End']\n",
    "df = convert_to_datetime(Telecom_db, columns_to_convert)"
   ]
  },
  {
   "cell_type": "code",
   "execution_count": 5,
   "metadata": {},
   "outputs": [
    {
     "name": "stdout",
     "output_type": "stream",
     "text": [
      "   MSISDN/Number  session_frequency\n",
      "0   3.360100e+10                  1\n",
      "1   3.360100e+10                  1\n",
      "2   3.360101e+10                  1\n",
      "3   3.360101e+10                  2\n",
      "4   3.360101e+10                  2\n"
     ]
    }
   ],
   "source": [
    "# Step 1: Calculate session frequency\n",
    "session_freq = calculate_session_frequency(Telecom_db)\n",
    "print(session_freq.head())"
   ]
  },
  {
   "cell_type": "code",
   "execution_count": 6,
   "metadata": {},
   "outputs": [
    {
     "name": "stdout",
     "output_type": "stream",
     "text": [
      "   MSISDN/Number  total_session_duration\n",
      "0   3.360100e+10               32.433333\n",
      "1   3.360100e+10               50.350000\n",
      "2   3.360101e+10               13.866667\n",
      "3   3.360101e+10               10.333333\n",
      "4   3.360101e+10               70.550000\n"
     ]
    },
    {
     "name": "stderr",
     "output_type": "stream",
     "text": [
      "c:\\Users\\mama\\Desktop\\Week2\\Telecom-bussiness-feasibility\\src\\utils.py:339: SettingWithCopyWarning: \n",
      "A value is trying to be set on a copy of a slice from a DataFrame.\n",
      "Try using .loc[row_indexer,col_indexer] = value instead\n",
      "\n",
      "See the caveats in the documentation: https://pandas.pydata.org/pandas-docs/stable/user_guide/indexing.html#returning-a-view-versus-a-copy\n",
      "  df['session_duration'] = (df[End] - df[Start]).dt.total_seconds() / 3600  # convert to hours\n"
     ]
    }
   ],
   "source": [
    "session_duration = calculate_session_duration_from_times(Telecom_db, 'Start', 'End')\n",
    "print(session_duration.head())"
   ]
  },
  {
   "cell_type": "code",
   "execution_count": 7,
   "metadata": {},
   "outputs": [
    {
     "name": "stdout",
     "output_type": "stream",
     "text": [
      "   MSISDN/Number  total_session_traffic\n",
      "0   3.360100e+10           8.786906e+08\n",
      "1   3.360100e+10           1.568596e+08\n",
      "2   3.360101e+10           4.223207e+08\n",
      "3   3.360101e+10           1.457411e+09\n",
      "4   3.360101e+10           6.152172e+08\n"
     ]
    },
    {
     "name": "stderr",
     "output_type": "stream",
     "text": [
      "c:\\Users\\mama\\Desktop\\Week2\\Telecom-bussiness-feasibility\\src\\utils.py:348: SettingWithCopyWarning: \n",
      "A value is trying to be set on a copy of a slice from a DataFrame.\n",
      "Try using .loc[row_indexer,col_indexer] = value instead\n",
      "\n",
      "See the caveats in the documentation: https://pandas.pydata.org/pandas-docs/stable/user_guide/indexing.html#returning-a-view-versus-a-copy\n",
      "  df['total_traffic'] = df['Total DL (Bytes)'] + df['Total UL (Bytes)']\n"
     ]
    }
   ],
   "source": [
    "total_traffic = calculate_total_traffic(Telecom_db)\n",
    "print(total_traffic.head())"
   ]
  },
  {
   "cell_type": "code",
   "execution_count": 8,
   "metadata": {},
   "outputs": [],
   "source": [
    "Telecom_db = df"
   ]
  },
  {
   "cell_type": "code",
   "execution_count": 9,
   "metadata": {},
   "outputs": [
    {
     "name": "stderr",
     "output_type": "stream",
     "text": [
      "c:\\Users\\mama\\Desktop\\Week2\\Telecom-bussiness-feasibility\\src\\utils.py:367: SettingWithCopyWarning: \n",
      "A value is trying to be set on a copy of a slice from a DataFrame.\n",
      "Try using .loc[row_indexer,col_indexer] = value instead\n",
      "\n",
      "See the caveats in the documentation: https://pandas.pydata.org/pandas-docs/stable/user_guide/indexing.html#returning-a-view-versus-a-copy\n",
      "  df[col] = pd.to_datetime(df[col], errors='coerce')  # Coerce invalid parsing to NaT\n",
      "c:\\Users\\mama\\Desktop\\Week2\\Telecom-bussiness-feasibility\\src\\utils.py:367: SettingWithCopyWarning: \n",
      "A value is trying to be set on a copy of a slice from a DataFrame.\n",
      "Try using .loc[row_indexer,col_indexer] = value instead\n",
      "\n",
      "See the caveats in the documentation: https://pandas.pydata.org/pandas-docs/stable/user_guide/indexing.html#returning-a-view-versus-a-copy\n",
      "  df[col] = pd.to_datetime(df[col], errors='coerce')  # Coerce invalid parsing to NaT\n",
      "c:\\Users\\mama\\Desktop\\Week2\\Telecom-bussiness-feasibility\\src\\utils.py:339: SettingWithCopyWarning: \n",
      "A value is trying to be set on a copy of a slice from a DataFrame.\n",
      "Try using .loc[row_indexer,col_indexer] = value instead\n",
      "\n",
      "See the caveats in the documentation: https://pandas.pydata.org/pandas-docs/stable/user_guide/indexing.html#returning-a-view-versus-a-copy\n",
      "  df['session_duration'] = (df[End] - df[Start]).dt.total_seconds() / 3600  # convert to hours\n"
     ]
    },
    {
     "name": "stdout",
     "output_type": "stream",
     "text": [
      "   MSISDN/Number  session_frequency  total_session_duration  \\\n",
      "0   3.360100e+10                  1               32.433333   \n",
      "1   3.360100e+10                  1               50.350000   \n",
      "2   3.360101e+10                  1               13.866667   \n",
      "3   3.360101e+10                  2               10.333333   \n",
      "4   3.360101e+10                  2               70.550000   \n",
      "\n",
      "   total_session_traffic  \n",
      "0           8.786906e+08  \n",
      "1           1.568596e+08  \n",
      "2           4.223207e+08  \n",
      "3           1.457411e+09  \n",
      "4           6.152172e+08  \n"
     ]
    },
    {
     "name": "stderr",
     "output_type": "stream",
     "text": [
      "c:\\Users\\mama\\Desktop\\Week2\\Telecom-bussiness-feasibility\\src\\utils.py:348: SettingWithCopyWarning: \n",
      "A value is trying to be set on a copy of a slice from a DataFrame.\n",
      "Try using .loc[row_indexer,col_indexer] = value instead\n",
      "\n",
      "See the caveats in the documentation: https://pandas.pydata.org/pandas-docs/stable/user_guide/indexing.html#returning-a-view-versus-a-copy\n",
      "  df['total_traffic'] = df['Total DL (Bytes)'] + df['Total UL (Bytes)']\n"
     ]
    }
   ],
   "source": [
    "user_engagement = track_user_engagement(Telecom_db, 'Start', 'End')\n",
    "print(user_engagement.head())"
   ]
  },
  {
   "cell_type": "code",
   "execution_count": 10,
   "metadata": {},
   "outputs": [
    {
     "name": "stderr",
     "output_type": "stream",
     "text": [
      "c:\\Users\\mama\\Desktop\\Week2\\Telecom-bussiness-feasibility\\src\\utils.py:367: SettingWithCopyWarning: \n",
      "A value is trying to be set on a copy of a slice from a DataFrame.\n",
      "Try using .loc[row_indexer,col_indexer] = value instead\n",
      "\n",
      "See the caveats in the documentation: https://pandas.pydata.org/pandas-docs/stable/user_guide/indexing.html#returning-a-view-versus-a-copy\n",
      "  df[col] = pd.to_datetime(df[col], errors='coerce')  # Coerce invalid parsing to NaT\n",
      "c:\\Users\\mama\\Desktop\\Week2\\Telecom-bussiness-feasibility\\src\\utils.py:367: SettingWithCopyWarning: \n",
      "A value is trying to be set on a copy of a slice from a DataFrame.\n",
      "Try using .loc[row_indexer,col_indexer] = value instead\n",
      "\n",
      "See the caveats in the documentation: https://pandas.pydata.org/pandas-docs/stable/user_guide/indexing.html#returning-a-view-versus-a-copy\n",
      "  df[col] = pd.to_datetime(df[col], errors='coerce')  # Coerce invalid parsing to NaT\n",
      "c:\\Users\\mama\\Desktop\\Week2\\Telecom-bussiness-feasibility\\src\\utils.py:339: SettingWithCopyWarning: \n",
      "A value is trying to be set on a copy of a slice from a DataFrame.\n",
      "Try using .loc[row_indexer,col_indexer] = value instead\n",
      "\n",
      "See the caveats in the documentation: https://pandas.pydata.org/pandas-docs/stable/user_guide/indexing.html#returning-a-view-versus-a-copy\n",
      "  df['session_duration'] = (df[End] - df[Start]).dt.total_seconds() / 3600  # convert to hours\n"
     ]
    },
    {
     "name": "stdout",
     "output_type": "stream",
     "text": [
      "   MSISDN/Number  session_frequency  total_session_duration  \\\n",
      "0   3.360100e+10                  1               32.433333   \n",
      "1   3.360100e+10                  1               50.350000   \n",
      "2   3.360101e+10                  1               13.866667   \n",
      "3   3.360101e+10                  2               10.333333   \n",
      "4   3.360101e+10                  2               70.550000   \n",
      "\n",
      "   total_session_traffic  \n",
      "0           8.786906e+08  \n",
      "1           1.568596e+08  \n",
      "2           4.223207e+08  \n",
      "3           1.457411e+09  \n",
      "4           6.152172e+08  \n"
     ]
    },
    {
     "name": "stderr",
     "output_type": "stream",
     "text": [
      "c:\\Users\\mama\\Desktop\\Week2\\Telecom-bussiness-feasibility\\src\\utils.py:348: SettingWithCopyWarning: \n",
      "A value is trying to be set on a copy of a slice from a DataFrame.\n",
      "Try using .loc[row_indexer,col_indexer] = value instead\n",
      "\n",
      "See the caveats in the documentation: https://pandas.pydata.org/pandas-docs/stable/user_guide/indexing.html#returning-a-view-versus-a-copy\n",
      "  df['total_traffic'] = df['Total DL (Bytes)'] + df['Total UL (Bytes)']\n"
     ]
    }
   ],
   "source": [
    "user_engagement = track_user_engagement(Telecom_db, 'Start', 'End')\n",
    "print(user_engagement.head())"
   ]
  },
  {
   "cell_type": "code",
   "execution_count": 11,
   "metadata": {},
   "outputs": [
    {
     "name": "stdout",
     "output_type": "stream",
     "text": [
      "        MSISDN/Number  session_frequency\n",
      "100184   4.188282e+10                438\n",
      "12683    3.362632e+10                 18\n",
      "12362    3.362578e+10                 17\n",
      "6035     3.361489e+10                 17\n",
      "34735    3.365973e+10                 16\n",
      "87229    3.376054e+10                 15\n",
      "71700    3.367588e+10                 15\n",
      "61174    3.366716e+10                 13\n",
      "1194     3.360452e+10                 12\n",
      "99522    3.378632e+10                 12\n"
     ]
    }
   ],
   "source": [
    "top_customers_frequency = get_top_customers(user_engagement, 'session_frequency', 10)\n",
    "print(top_customers_frequency)"
   ]
  },
  {
   "cell_type": "code",
   "execution_count": 12,
   "metadata": {},
   "outputs": [
    {
     "name": "stdout",
     "output_type": "stream",
     "text": [
      "        MSISDN/Number  total_session_duration\n",
      "100184   4.188282e+10             8120.183333\n",
      "12362    3.362578e+10             5153.816667\n",
      "6035     3.361489e+10             2768.666667\n",
      "87229    3.376054e+10             2577.683333\n",
      "12683    3.362632e+10             2442.300000\n",
      "61174    3.366716e+10             2429.050000\n",
      "47242    3.366284e+10             1837.266667\n",
      "616      3.360313e+10             1746.666667\n",
      "62033    3.366746e+10             1569.466667\n",
      "32581    3.365922e+10             1473.900000\n"
     ]
    }
   ],
   "source": [
    "top_customers_duration = get_top_customers(user_engagement, 'total_session_duration', 10)\n",
    "print(top_customers_duration)"
   ]
  },
  {
   "cell_type": "code",
   "execution_count": 13,
   "metadata": {},
   "outputs": [
    {
     "name": "stdout",
     "output_type": "stream",
     "text": [
      "        MSISDN/Number  total_session_traffic\n",
      "100184   4.188282e+10           2.196804e+11\n",
      "6035     3.361489e+10           8.846226e+09\n",
      "87229    3.376054e+10           8.514774e+09\n",
      "12362    3.362578e+10           8.499621e+09\n",
      "12683    3.362632e+10           7.971167e+09\n",
      "71700    3.367588e+10           7.891111e+09\n",
      "34735    3.365973e+10           7.705863e+09\n",
      "59211    3.366646e+10           7.308501e+09\n",
      "53778    3.366471e+10           6.872018e+09\n",
      "81136    3.369879e+10           6.540899e+09\n"
     ]
    }
   ],
   "source": [
    "top_customers_traffic = get_top_customers(user_engagement, 'total_session_traffic', 10)\n",
    "print(top_customers_traffic)"
   ]
  },
  {
   "cell_type": "code",
   "execution_count": 14,
   "metadata": {},
   "outputs": [
    {
     "name": "stderr",
     "output_type": "stream",
     "text": [
      "c:\\Users\\mama\\Desktop\\Week2\\Telecom-bussiness-feasibility\\src\\utils.py:367: SettingWithCopyWarning: \n",
      "A value is trying to be set on a copy of a slice from a DataFrame.\n",
      "Try using .loc[row_indexer,col_indexer] = value instead\n",
      "\n",
      "See the caveats in the documentation: https://pandas.pydata.org/pandas-docs/stable/user_guide/indexing.html#returning-a-view-versus-a-copy\n",
      "  df[col] = pd.to_datetime(df[col], errors='coerce')  # Coerce invalid parsing to NaT\n",
      "c:\\Users\\mama\\Desktop\\Week2\\Telecom-bussiness-feasibility\\src\\utils.py:367: SettingWithCopyWarning: \n",
      "A value is trying to be set on a copy of a slice from a DataFrame.\n",
      "Try using .loc[row_indexer,col_indexer] = value instead\n",
      "\n",
      "See the caveats in the documentation: https://pandas.pydata.org/pandas-docs/stable/user_guide/indexing.html#returning-a-view-versus-a-copy\n",
      "  df[col] = pd.to_datetime(df[col], errors='coerce')  # Coerce invalid parsing to NaT\n",
      "c:\\Users\\mama\\Desktop\\Week2\\Telecom-bussiness-feasibility\\src\\utils.py:339: SettingWithCopyWarning: \n",
      "A value is trying to be set on a copy of a slice from a DataFrame.\n",
      "Try using .loc[row_indexer,col_indexer] = value instead\n",
      "\n",
      "See the caveats in the documentation: https://pandas.pydata.org/pandas-docs/stable/user_guide/indexing.html#returning-a-view-versus-a-copy\n",
      "  df['session_duration'] = (df[End] - df[Start]).dt.total_seconds() / 3600  # convert to hours\n"
     ]
    },
    {
     "name": "stdout",
     "output_type": "stream",
     "text": [
      "   MSISDN/Number  session_frequency  total_session_duration  \\\n",
      "0   3.360100e+10                  1               32.433333   \n",
      "1   3.360100e+10                  1               50.350000   \n",
      "2   3.360101e+10                  1               13.866667   \n",
      "3   3.360101e+10                  2               10.333333   \n",
      "4   3.360101e+10                  2               70.550000   \n",
      "\n",
      "   total_session_traffic  \n",
      "0           8.786906e+08  \n",
      "1           1.568596e+08  \n",
      "2           4.223207e+08  \n",
      "3           1.457411e+09  \n",
      "4           6.152172e+08  \n"
     ]
    },
    {
     "name": "stderr",
     "output_type": "stream",
     "text": [
      "c:\\Users\\mama\\Desktop\\Week2\\Telecom-bussiness-feasibility\\src\\utils.py:348: SettingWithCopyWarning: \n",
      "A value is trying to be set on a copy of a slice from a DataFrame.\n",
      "Try using .loc[row_indexer,col_indexer] = value instead\n",
      "\n",
      "See the caveats in the documentation: https://pandas.pydata.org/pandas-docs/stable/user_guide/indexing.html#returning-a-view-versus-a-copy\n",
      "  df['total_traffic'] = df['Total DL (Bytes)'] + df['Total UL (Bytes)']\n"
     ]
    }
   ],
   "source": [
    "user_engagement = track_user_engagement(df, 'Start', 'End')\n",
    "print(user_engagement.head())"
   ]
  },
  {
   "cell_type": "code",
   "execution_count": 15,
   "metadata": {},
   "outputs": [
    {
     "name": "stderr",
     "output_type": "stream",
     "text": [
      "c:\\Users\\mama\\Desktop\\Week2\\Telecom-bussiness-feasibility\\myvenv\\Lib\\site-packages\\joblib\\externals\\loky\\backend\\context.py:136: UserWarning: Could not find the number of physical cores for the following reason:\n",
      "[WinError 2] The system cannot find the file specified\n",
      "Returning the number of logical cores instead. You can silence this warning by setting LOKY_MAX_CPU_COUNT to the number of cores you want to use.\n",
      "  warnings.warn(\n",
      "  File \"c:\\Users\\mama\\Desktop\\Week2\\Telecom-bussiness-feasibility\\myvenv\\Lib\\site-packages\\joblib\\externals\\loky\\backend\\context.py\", line 257, in _count_physical_cores\n",
      "    cpu_info = subprocess.run(\n",
      "               ^^^^^^^^^^^^^^^\n",
      "  File \"C:\\Users\\mama\\AppData\\Local\\Programs\\Python\\Python312\\Lib\\subprocess.py\", line 548, in run\n",
      "    with Popen(*popenargs, **kwargs) as process:\n",
      "         ^^^^^^^^^^^^^^^^^^^^^^^^^^^\n",
      "  File \"C:\\Users\\mama\\AppData\\Local\\Programs\\Python\\Python312\\Lib\\subprocess.py\", line 1026, in __init__\n",
      "    self._execute_child(args, executable, preexec_fn, close_fds,\n",
      "  File \"C:\\Users\\mama\\AppData\\Local\\Programs\\Python\\Python312\\Lib\\subprocess.py\", line 1538, in _execute_child\n",
      "    hp, ht, pid, tid = _winapi.CreateProcess(executable, args,\n",
      "                       ^^^^^^^^^^^^^^^^^^^^^^^^^^^^^^^^^^^^^^^\n"
     ]
    },
    {
     "name": "stdout",
     "output_type": "stream",
     "text": [
      "   MSISDN/Number  session_frequency  total_session_duration  \\\n",
      "0   3.360100e+10           0.000000                0.003751   \n",
      "1   3.360100e+10           0.000000                0.005958   \n",
      "2   3.360101e+10           0.000000                0.001464   \n",
      "3   3.360101e+10           0.002288                0.001029   \n",
      "4   3.360101e+10           0.002288                0.008446   \n",
      "\n",
      "   total_session_traffic  cluster  \n",
      "0               0.003849        0  \n",
      "1               0.000563        0  \n",
      "2               0.001771        0  \n",
      "3               0.006484        0  \n",
      "4               0.002650        0  \n"
     ]
    }
   ],
   "source": [
    "engagement_metrics = ['session_frequency', 'total_session_duration', 'total_session_traffic']\n",
    "user_engagement_normalized, kmeans_model = classify_customers_kmeans(user_engagement, engagement_metrics, num_clusters=3)\n",
    "print(user_engagement_normalized.head())"
   ]
  },
  {
   "cell_type": "code",
   "execution_count": 19,
   "metadata": {},
   "outputs": [
    {
     "data": {
      "image/png": "[encoded data removed]",
      "text/plain": [
       "<Figure size 1000x600 with 2 Axes>"
      ]
     },
     "metadata": {},
     "output_type": "display_data"
    }
   ],
   "source": [
    "plot_clusters(user_engagement_normalized, 'session_frequency', 'total_session_traffic')"
   ]
  },
  {
   "cell_type": "code",
   "execution_count": 23,
   "metadata": {},
   "outputs": [
    {
     "name": "stderr",
     "output_type": "stream",
     "text": [
      "c:\\Users\\mama\\Desktop\\Week2\\Telecom-bussiness-feasibility\\src\\utils.py:367: SettingWithCopyWarning: \n",
      "A value is trying to be set on a copy of a slice from a DataFrame.\n",
      "Try using .loc[row_indexer,col_indexer] = value instead\n",
      "\n",
      "See the caveats in the documentation: https://pandas.pydata.org/pandas-docs/stable/user_guide/indexing.html#returning-a-view-versus-a-copy\n",
      "  df[col] = pd.to_datetime(df[col], errors='coerce')  # Coerce invalid parsing to NaT\n",
      "c:\\Users\\mama\\Desktop\\Week2\\Telecom-bussiness-feasibility\\src\\utils.py:367: SettingWithCopyWarning: \n",
      "A value is trying to be set on a copy of a slice from a DataFrame.\n",
      "Try using .loc[row_indexer,col_indexer] = value instead\n",
      "\n",
      "See the caveats in the documentation: https://pandas.pydata.org/pandas-docs/stable/user_guide/indexing.html#returning-a-view-versus-a-copy\n",
      "  df[col] = pd.to_datetime(df[col], errors='coerce')  # Coerce invalid parsing to NaT\n",
      "c:\\Users\\mama\\Desktop\\Week2\\Telecom-bussiness-feasibility\\src\\utils.py:339: SettingWithCopyWarning: \n",
      "A value is trying to be set on a copy of a slice from a DataFrame.\n",
      "Try using .loc[row_indexer,col_indexer] = value instead\n",
      "\n",
      "See the caveats in the documentation: https://pandas.pydata.org/pandas-docs/stable/user_guide/indexing.html#returning-a-view-versus-a-copy\n",
      "  df['session_duration'] = (df[End] - df[Start]).dt.total_seconds() / 3600  # convert to hours\n",
      "c:\\Users\\mama\\Desktop\\Week2\\Telecom-bussiness-feasibility\\src\\utils.py:348: SettingWithCopyWarning: \n",
      "A value is trying to be set on a copy of a slice from a DataFrame.\n",
      "Try using .loc[row_indexer,col_indexer] = value instead\n",
      "\n",
      "See the caveats in the documentation: https://pandas.pydata.org/pandas-docs/stable/user_guide/indexing.html#returning-a-view-versus-a-copy\n",
      "  df['total_traffic'] = df['Total DL (Bytes)'] + df['Total UL (Bytes)']\n"
     ]
    },
    {
     "data": {
      "image/png": "[encoded data removed]",
      "text/plain": [
       "<Figure size 1000x600 with 2 Axes>"
      ]
     },
     "metadata": {},
     "output_type": "display_data"
    },
    {
     "name": "stdout",
     "output_type": "stream",
     "text": [
      "   MSISDN/Number  cluster\n",
      "0   3.360100e+10        0\n",
      "1   3.360100e+10        0\n",
      "2   3.360101e+10        0\n",
      "3   3.360101e+10        0\n",
      "4   3.360101e+10        0\n"
     ]
    }
   ],
   "source": [
    "user_engagement = track_user_engagement(df, 'Start', 'End')\n",
    "\n",
    "# 2. Normalize the engagement metrics and classify users into 3 clusters\n",
    "engagement_metrics = ['session_frequency', 'total_session_duration', 'total_session_traffic']\n",
    "user_engagement_normalized, kmeans_model = classify_customers_kmeans(user_engagement, engagement_metrics, num_clusters=3)\n",
    "\n",
    "# 3. Visualize the clusters\n",
    "plot_clusters(user_engagement_normalized, 'session_frequency', 'total_session_traffic')\n",
    "\n",
    "# 4. Check the cluster assignments\n",
    "print(user_engagement_normalized[['MSISDN/Number', 'cluster']].head())"
   ]
  },
  {
   "cell_type": "code",
   "execution_count": null,
   "metadata": {},
   "outputs": [],
   "source": [
    "numeric_cols = ['TCP_retransmission', 'RTT', 'throughput']\n",
    "handset_col = 'handset_type'\n",
    "\n",
    "# Compute the averages and most common handset type per customer\n",
    "customer_data = aggregate_customer_data(df_cleaned, numeric_cols, handset_col)\n",
    "\n",
    "# Display the results\n",
    "print(customer_data.head())"
   ]
  }
 ],
 "metadata": {
  "kernelspec": {
   "display_name": "Python 3.12.6 ('myvenv': venv)",
   "language": "python",
   "name": "python3"
  },
  "language_info": {
   "codemirror_mode": {
    "name": "ipython",
    "version": 3
   },
   "file_extension": ".py",
   "mimetype": "text/x-python",
   "name": "python",
   "nbconvert_exporter": "python",
   "pygments_lexer": "ipython3",
   "version": "3.12.6"
  },
  "orig_nbformat": 4,
  "vscode": {
   "interpreter": {
    "hash": "4b038c8d0641192a9ee556187729072a7545a5ec34bc71d8a59c6d7ee15b1195"
   }
  }
 },
 "nbformat": 4,
 "nbformat_minor": 2
}
